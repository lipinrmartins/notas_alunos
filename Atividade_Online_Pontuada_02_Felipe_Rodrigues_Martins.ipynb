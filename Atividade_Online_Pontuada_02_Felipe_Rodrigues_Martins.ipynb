{
  "nbformat": 4,
  "nbformat_minor": 0,
  "metadata": {
    "colab": {
      "name": "Atividade Online Pontuada 02_Felipe Rodrigues Martins.ipynb",
      "provenance": [],
      "toc_visible": true,
      "authorship_tag": "ABX9TyNpEjOhnSBj6AMrkzBQHuw7"
    },
    "kernelspec": {
      "name": "python3",
      "display_name": "Python 3"
    },
    "language_info": {
      "name": "python"
    }
  },
  "cells": [
    {
      "cell_type": "markdown",
      "metadata": {
        "id": "pOhiMXVN0vJ6"
      },
      "source": [
        "# Atividade Online Pontuada 02"
      ]
    },
    {
      "cell_type": "code",
      "metadata": {
        "id": "G0rd0iY00a1G"
      },
      "source": [
        "\"\"\" \n",
        "Faça um algoritmo em Python que leia de cem (100) alunos de um curso EAD da UVV: \n",
        "Nota [0, 1] na AOP1: Atividade Online Pontuada 1; \n",
        "\n",
        "Nota [0, 2] na AOP2: Atividade Online Pontuada 2; \n",
        "\n",
        "Nota [0, 1] na AOP3: Atividade Online Pontuada 3; \n",
        "\n",
        "Nota [0, 6] da PROVA REGULAR; \n",
        "\n",
        "Nota [0, 10] da PROVA DE RECUPERAÇÃO: Se o alunos não obteve \n",
        "Média do Módulo (MM) = AOP1 + APO2 + AOP3 + PROVA REGULAR >= 7.0 \n",
        "\n",
        " E, calcule e mostre na tela: as informações a seguir: \n",
        "\n",
        "Média do Módulo (MM) = AOP1 + APO2 + AOP3 + PROVA REGULAR \n",
        "\n",
        "Status do Aluno: Aprovado ou Reprovado; \n",
        "\n",
        "A quantidade de alunos (em porcentagem) que foram: Aprovado ou Reprovado; \n",
        "\n",
        "Lembrando que, é considerado com Status Aprovado, o aluno que: \n",
        "\n",
        "Obteve Média do Módulo >= 7.0 ou \n",
        "\n",
        "Obteve Média Geral (com a Prova de Recuperação) >= 5.0 \n",
        "\n",
        "OBS: Para testar seu programa reduzir a quantidade de alunos da turma para 5 alunos, apenas. \n",
        "\"\"\"\n",
        "\n",
        "aprovados = 0\n",
        "reprovados = 0\n",
        "alunos =  0\n",
        "\n",
        "while (alunos < 5):\n",
        "  alunos +=1\n",
        "  aop1 = aop2 = aop3 = pr = recuperacao = -1\n",
        "  print(f'Notas do Aluno {alunos}: ')\n",
        "  while aop1 < 0 or aop1 > 1:\n",
        "    aop1 = float(input('Nota Atividade Online Avaliativa 1 [0,1]: '))\n",
        "    if aop1 <0 or aop1 > 1:\n",
        "      print(f'Erro, você digitou a nota errada.')\n",
        "  while aop2 < 0 or aop2 > 2:\n",
        "    aop2 = float(input('Nota Atividade Online Avaliativa 2 [0,2]: '))\n",
        "    if aop2 < 0 or aop2 > 2:\n",
        "      print(f'Você digitou a nota errada.')\n",
        "  while aop3 < 0 or aop3 > 1:\n",
        "    aop3 = float(input('Nota Atividade Online Avaliativa 3 [0,1]: '))\n",
        "    if aop3 < 0 or aop3 > 1:\n",
        "      print(f'Você digitou a nota errada.')\n",
        "  while pr < 0 or pr > 6:\n",
        "    pr = float(input('Nota Prova Regular [0,6]: '))\n",
        "    if pr < 0 or pr > 6:\n",
        "      print(f'Você digitou a nota errada.')\n",
        "  mm = aop1 + aop2 + aop3 + pr\n",
        "  if mm >= 7.0:\n",
        "    print(f'Aluno {alunos}: Aprovado!')\n",
        "    aprovados += 1\n",
        "  else:\n",
        "    print(f'Aluno {alunos}: Deverá fazer a recuperação.')\n",
        "    while recuperacao < 0 or recuperacao > 10:\n",
        "      recuperacao = float(input(f'Nota de Recuperação [0,10]: '))\n",
        "      if recuperacao < 0 or recuperacao > 10:\n",
        "        print('Erro, você digitou a nota errada.')\n",
        "    notafinal = (mm + recuperacao) / 2\n",
        "    if notafinal >= 5.0:\n",
        "      print(f'Aluno {alunos}: Aprovado!')\n",
        "      aprovados += 1 \n",
        "    else:\n",
        "      print(f'Aluno {alunos}: Reprovado!')\n",
        "      reprovados += 1\n",
        "  print('\\n')\n",
        "print(f'Alunos Aprovados: {(aprovados / alunos) * 100:.2f}%')\n",
        "print(f'Alunos Reprovados: {(reprovados / alunos) * 100:.2f}%')\n"
      ],
      "execution_count": null,
      "outputs": []
    }
  ]
}